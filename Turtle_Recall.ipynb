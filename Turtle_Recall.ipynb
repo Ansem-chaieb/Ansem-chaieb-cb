{
  "nbformat": 4,
  "nbformat_minor": 0,
  "metadata": {
    "colab": {
      "name": "Turtle Recall.ipynb",
      "provenance": [],
      "mount_file_id": "1HZOZdVXc5cxmKMyUxjWSLGNOqJf84RUn",
      "authorship_tag": "ABX9TyP0ayzVlN5CoDIKUo70N70S",
      "include_colab_link": true
    },
    "kernelspec": {
      "name": "python3",
      "display_name": "Python 3"
    },
    "language_info": {
      "name": "python"
    }
  },
  "cells": [
    {
      "cell_type": "markdown",
      "metadata": {
        "id": "view-in-github",
        "colab_type": "text"
      },
      "source": [
        "<a href=\"https://colab.research.google.com/github/Ansem-chaieb/Ansem-chaieb/blob/main/Turtle_Recall.ipynb\" target=\"_parent\"><img src=\"https://colab.research.google.com/assets/colab-badge.svg\" alt=\"Open In Colab\"/></a>"
      ]
    },
    {
      "cell_type": "code",
      "source": [
        "import os\n",
        "\n",
        "import pandas as pd\n",
        "from PIL import Image\n",
        "\n",
        "import torch\n",
        "import torch.nn.functional as F\n",
        "import torchvision\n",
        "import torchvision.transforms as transforms\n",
        "from torch.utils.data import Dataset, DataLoader"
      ],
      "metadata": {
        "id": "_gVfeBVJkG6S"
      },
      "execution_count": 8,
      "outputs": []
    },
    {
      "cell_type": "code",
      "source": [
        "BASE_PATH = \"/content/drive/MyDrive/turtle_recall/\"\n",
        "TRAIN_PATH = \"train.csv\"\n",
        "TEST_PATH = \"test.csv\"\n",
        "SUB_PATH = \"sample_submission.csv\"\n",
        "DATA_PATH = \"images/\""
      ],
      "metadata": {
        "id": "9fHE6Xu6Ek6z"
      },
      "execution_count": 7,
      "outputs": []
    },
    {
      "cell_type": "code",
      "source": [
        "class TurtleDataset(Dataset):\n",
        "    def __init__(self, dataset, transform=None):\n",
        "        self.dataset = dataset\n",
        "        self.transform = transform\n",
        "\n",
        "    def __len__(self):\n",
        "        return len(self.dataset)\n",
        "\n",
        "    def __getitem__(self, index):\n",
        "        image_id, label = self.dataset[index][\"\"], self.dataset[index][\"\"]\n",
        "        image_path = os.path.join()\n",
        "        image = Image.open(image_path)\n",
        "        if self.transform is not None:\n",
        "            image = self.transform(image) \n",
        "        return image, label    \n"
      ],
      "metadata": {
        "id": "JjsDZHkw_dRT"
      },
      "execution_count": 10,
      "outputs": []
    },
    {
      "cell_type": "code",
      "source": [
        ""
      ],
      "metadata": {
        "id": "WF7S_xDLovFQ"
      },
      "execution_count": null,
      "outputs": []
    }
  ]
}